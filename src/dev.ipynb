{
 "nbformat": 4,
 "nbformat_minor": 2,
 "metadata": {
  "language_info": {
   "name": "python",
   "codemirror_mode": {
    "name": "ipython",
    "version": 3
   }
  },
  "orig_nbformat": 2,
  "file_extension": ".py",
  "mimetype": "text/x-python",
  "name": "python",
  "npconvert_exporter": "python",
  "pygments_lexer": "ipython3",
  "version": 3
 },
 "cells": [
  {
   "cell_type": "code",
   "execution_count": 1,
   "metadata": {},
   "outputs": [],
   "source": [
    "import os\n",
    "from glob import glob\n",
    "\n",
    "import cv2\n",
    "import numpy as np\n",
    "import pandas as pd\n",
    "from tqdm import tqdm\n",
    "from sklearn.svm import LinearSVC\n",
    "from sklearn.metrics import accuracy_score\n",
    "from sklearn.metrics import confusion_matrix\n",
    "from sklearn.model_selection import train_test_split"
   ]
  },
  {
   "cell_type": "code",
   "execution_count": 2,
   "metadata": {},
   "outputs": [],
   "source": [
    "SIZE = (50, 50)\n",
    "\n",
    "def extract_hand(path):\n",
    "   # read image as grayscale and resize it\n",
    "    img = cv2.imread(path, cv2.COLOR_BGR2GRAY)\n",
    "    img = cv2.resize(img, SIZE)\n",
    "\n",
    "    # blur\n",
    "    img = cv2.GaussianBlur(img,(5,5),0)\n",
    "\n",
    "    # OTSU threshold\n",
    "    ret, img = cv2.threshold(img, 0, 255, cv2.THRESH_BINARY+cv2.THRESH_OTSU)\n",
    "\n",
    "    return img.flatten()"
   ]
  },
  {
   "cell_type": "code",
   "execution_count": 3,
   "metadata": {},
   "outputs": [
    {
     "name": "stderr",
     "output_type": "stream",
     "text": "100%|██████████| 6/6 [00:00<00:00, 23.02it/s]\n"
    }
   ],
   "source": [
    "images = []\n",
    "targets = []\n",
    "\n",
    "for number in tqdm(os.listdir('data')):\n",
    "    files = glob(os.path.join('data', number, '*.png'))[:200]\n",
    "    images.extend(map(extract_hand, files))\n",
    "    targets.extend([number] * len(files))"
   ]
  },
  {
   "cell_type": "code",
   "execution_count": 4,
   "metadata": {},
   "outputs": [],
   "source": [
    "x_train, x_test, y_train, y_test = train_test_split(images, targets, test_size = 0.2, random_state = 42)\n",
    "\n",
    "model = LinearSVC()\n",
    "model.fit(x_train, y_train)\n",
    "pred = model.predict(x_test)"
   ]
  },
  {
   "cell_type": "code",
   "execution_count": 7,
   "metadata": {},
   "outputs": [],
   "source": [
    "conf = model.decision_function(x_test)"
   ]
  },
  {
   "cell_type": "code",
   "execution_count": 5,
   "metadata": {},
   "outputs": [
    {
     "data": {
      "text/plain": "0.9791666666666666"
     },
     "execution_count": 5,
     "metadata": {},
     "output_type": "execute_result"
    }
   ],
   "source": [
    "accuracy_score(y_test, pred)"
   ]
  },
  {
   "cell_type": "code",
   "execution_count": 6,
   "metadata": {},
   "outputs": [
    {
     "data": {
      "text/plain": "array([[45,  0,  0,  0,  0,  0],\n       [ 0, 34,  1,  0,  0,  0],\n       [ 0,  3, 32,  0,  0,  0],\n       [ 0,  0,  1, 47,  0,  0],\n       [ 0,  0,  0,  0, 38,  0],\n       [ 0,  0,  0,  0,  0, 39]])"
     },
     "execution_count": 6,
     "metadata": {},
     "output_type": "execute_result"
    }
   ],
   "source": [
    "confusion_matrix(y_test, pred)"
   ]
  }
 ]
}